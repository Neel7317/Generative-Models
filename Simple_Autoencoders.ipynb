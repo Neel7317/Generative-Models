{
  "nbformat": 4,
  "nbformat_minor": 0,
  "metadata": {
    "colab": {
      "name": "Simple_Autoencoders.ipynb",
      "provenance": [],
      "authorship_tag": "ABX9TyPXoOXKR6wgUozRomtynFno",
      "include_colab_link": true
    },
    "kernelspec": {
      "name": "python3",
      "display_name": "Python 3"
    },
    "language_info": {
      "name": "python"
    }
  },
  "cells": [
    {
      "cell_type": "markdown",
      "metadata": {
        "id": "view-in-github",
        "colab_type": "text"
      },
      "source": [
        "<a href=\"https://colab.research.google.com/github/Neel7317/Generative-Models/blob/main/Simple_Autoencoders.ipynb\" target=\"_parent\"><img src=\"https://colab.research.google.com/assets/colab-badge.svg\" alt=\"Open In Colab\"/></a>"
      ]
    },
    {
      "cell_type": "code",
      "execution_count": 3,
      "metadata": {
        "id": "P0suXqKq1OD7"
      },
      "outputs": [],
      "source": [
        "import numpy as np\n",
        "import pandas as pd\n",
        "from tensorflow.keras.layers import Input,Dense"
      ]
    },
    {
      "cell_type": "code",
      "source": [
        "from tensorflow.keras.models import Model\n"
      ],
      "metadata": {
        "id": "HN-woD661dbr"
      },
      "execution_count": 7,
      "outputs": []
    },
    {
      "cell_type": "code",
      "source": [
        "from tensorflow.keras.optimizers import Adam\n",
        "import tensorflow as tf"
      ],
      "metadata": {
        "id": "a4q6TcUd2DES"
      },
      "execution_count": 11,
      "outputs": []
    },
    {
      "cell_type": "code",
      "source": [
        "import matplotlib.pyplot as plt"
      ],
      "metadata": {
        "id": "XLQtCWL03YDP"
      },
      "execution_count": 14,
      "outputs": []
    },
    {
      "cell_type": "code",
      "source": [
        "np.random.seed(42)\n",
        "#tf.random.seed(42)"
      ],
      "metadata": {
        "id": "v86wLj0F2SgZ"
      },
      "execution_count": 19,
      "outputs": []
    },
    {
      "cell_type": "code",
      "source": [
        "datasets=tf.keras.datasets.mnist"
      ],
      "metadata": {
        "id": "R2NXiIwF3OCS"
      },
      "execution_count": 24,
      "outputs": []
    },
    {
      "cell_type": "code",
      "source": [
        "(x_train,y_train), (x_test,y_test) = tf.keras.datasets.mnist.load_data()"
      ],
      "metadata": {
        "id": "qqWZ-3Uj_93g"
      },
      "execution_count": 45,
      "outputs": []
    },
    {
      "cell_type": "code",
      "source": [
        "x_train=x_train/255\n",
        "x_test=x_test/255"
      ],
      "metadata": {
        "id": "2zjNGWyZAGvJ"
      },
      "execution_count": 46,
      "outputs": []
    },
    {
      "cell_type": "code",
      "source": [
        "x_train.shape"
      ],
      "metadata": {
        "colab": {
          "base_uri": "https://localhost:8080/"
        },
        "id": "djWG-30SAx2r",
        "outputId": "98a0d7bf-57c2-4889-e41b-5eedc697a33d"
      },
      "execution_count": 30,
      "outputs": [
        {
          "output_type": "execute_result",
          "data": {
            "text/plain": [
              "(60000, 28, 28)"
            ]
          },
          "metadata": {},
          "execution_count": 30
        }
      ]
    },
    {
      "cell_type": "code",
      "source": [
        "x_train=np.reshape(x_train,(-1,28*28*1))# height*width*channel\n",
        "x_test=np.reshape(x_test,(-1,28*28*1))"
      ],
      "metadata": {
        "id": "DLqccnmUBl37"
      },
      "execution_count": 47,
      "outputs": []
    },
    {
      "cell_type": "code",
      "source": [
        "x_train.shape"
      ],
      "metadata": {
        "colab": {
          "base_uri": "https://localhost:8080/"
        },
        "id": "j-uoKfQOCJOX",
        "outputId": "0f49fa2c-8be1-4ec0-c3e0-7d5aad03072e"
      },
      "execution_count": 48,
      "outputs": [
        {
          "output_type": "execute_result",
          "data": {
            "text/plain": [
              "(60000, 784)"
            ]
          },
          "metadata": {},
          "execution_count": 48
        }
      ]
    },
    {
      "cell_type": "code",
      "source": [
        "laten_dim=32"
      ],
      "metadata": {
        "id": "rkrndcEyCLqG"
      },
      "execution_count": 49,
      "outputs": []
    },
    {
      "cell_type": "code",
      "source": [
        "#simple autoencoder..\n",
        "input=Input(shape=(28*28,))\n",
        "h=Dense(laten_dim,activation='relu')(input)\n",
        "output=Dense(28*28,activation='sigmoid')(h)"
      ],
      "metadata": {
        "id": "9g5W98vqIPAV"
      },
      "execution_count": 50,
      "outputs": []
    },
    {
      "cell_type": "code",
      "source": [
        "autoencoder=Model(input,output)\n",
        "autoencoder.summary()#in summary you can clearly see that input and output datashape are identical"
      ],
      "metadata": {
        "colab": {
          "base_uri": "https://localhost:8080/"
        },
        "id": "T6jgjf-UJG4l",
        "outputId": "7074741b-8324-40e6-ddce-fe2bb05fa369"
      },
      "execution_count": 51,
      "outputs": [
        {
          "output_type": "stream",
          "name": "stdout",
          "text": [
            "Model: \"model_2\"\n",
            "_________________________________________________________________\n",
            " Layer (type)                Output Shape              Param #   \n",
            "=================================================================\n",
            " input_3 (InputLayer)        [(None, 784)]             0         \n",
            "                                                                 \n",
            " dense_4 (Dense)             (None, 32)                25120     \n",
            "                                                                 \n",
            " dense_5 (Dense)             (None, 784)               25872     \n",
            "                                                                 \n",
            "=================================================================\n",
            "Total params: 50,992\n",
            "Trainable params: 50,992\n",
            "Non-trainable params: 0\n",
            "_________________________________________________________________\n"
          ]
        }
      ]
    },
    {
      "cell_type": "code",
      "source": [
        "autoencoder.compile(optimizer=Adam(1e-3),loss='binary_crossentropy')"
      ],
      "metadata": {
        "id": "zL_TRJosJXss"
      },
      "execution_count": 52,
      "outputs": []
    },
    {
      "cell_type": "code",
      "source": [
        "autoencoder.fit(x_train,x_train,batch_size=256,epochs=50,validation_data=(x_test,x_test))"
      ],
      "metadata": {
        "colab": {
          "base_uri": "https://localhost:8080/"
        },
        "id": "S0vxYhNZKujO",
        "outputId": "40161d46-fd86-41c7-b7bd-38f5bd14804a"
      },
      "execution_count": 53,
      "outputs": [
        {
          "output_type": "stream",
          "name": "stdout",
          "text": [
            "Epoch 1/50\n",
            "235/235 [==============================] - 3s 13ms/step - loss: 0.2771 - val_loss: 0.1928\n",
            "Epoch 2/50\n",
            "235/235 [==============================] - 3s 12ms/step - loss: 0.1731 - val_loss: 0.1554\n",
            "Epoch 3/50\n",
            "235/235 [==============================] - 3s 12ms/step - loss: 0.1456 - val_loss: 0.1349\n",
            "Epoch 4/50\n",
            "235/235 [==============================] - 3s 11ms/step - loss: 0.1294 - val_loss: 0.1219\n",
            "Epoch 5/50\n",
            "235/235 [==============================] - 3s 12ms/step - loss: 0.1190 - val_loss: 0.1137\n",
            "Epoch 6/50\n",
            "235/235 [==============================] - 3s 12ms/step - loss: 0.1119 - val_loss: 0.1077\n",
            "Epoch 7/50\n",
            "235/235 [==============================] - 3s 12ms/step - loss: 0.1069 - val_loss: 0.1036\n",
            "Epoch 8/50\n",
            "235/235 [==============================] - 3s 12ms/step - loss: 0.1032 - val_loss: 0.1004\n",
            "Epoch 9/50\n",
            "235/235 [==============================] - 3s 11ms/step - loss: 0.1004 - val_loss: 0.0979\n",
            "Epoch 10/50\n",
            "235/235 [==============================] - 3s 11ms/step - loss: 0.0983 - val_loss: 0.0962\n",
            "Epoch 11/50\n",
            "235/235 [==============================] - 3s 11ms/step - loss: 0.0969 - val_loss: 0.0951\n",
            "Epoch 12/50\n",
            "235/235 [==============================] - 3s 11ms/step - loss: 0.0959 - val_loss: 0.0942\n",
            "Epoch 13/50\n",
            "235/235 [==============================] - 3s 11ms/step - loss: 0.0953 - val_loss: 0.0938\n",
            "Epoch 14/50\n",
            "235/235 [==============================] - 3s 12ms/step - loss: 0.0948 - val_loss: 0.0933\n",
            "Epoch 15/50\n",
            "235/235 [==============================] - 3s 11ms/step - loss: 0.0945 - val_loss: 0.0931\n",
            "Epoch 16/50\n",
            "235/235 [==============================] - 3s 11ms/step - loss: 0.0943 - val_loss: 0.0928\n",
            "Epoch 17/50\n",
            "235/235 [==============================] - 3s 11ms/step - loss: 0.0940 - val_loss: 0.0927\n",
            "Epoch 18/50\n",
            "235/235 [==============================] - 3s 12ms/step - loss: 0.0939 - val_loss: 0.0925\n",
            "Epoch 19/50\n",
            "235/235 [==============================] - 3s 12ms/step - loss: 0.0937 - val_loss: 0.0925\n",
            "Epoch 20/50\n",
            "235/235 [==============================] - 3s 12ms/step - loss: 0.0936 - val_loss: 0.0923\n",
            "Epoch 21/50\n",
            "235/235 [==============================] - 3s 12ms/step - loss: 0.0935 - val_loss: 0.0922\n",
            "Epoch 22/50\n",
            "235/235 [==============================] - 3s 11ms/step - loss: 0.0934 - val_loss: 0.0921\n",
            "Epoch 23/50\n",
            "235/235 [==============================] - 3s 12ms/step - loss: 0.0934 - val_loss: 0.0920\n",
            "Epoch 24/50\n",
            "235/235 [==============================] - 3s 12ms/step - loss: 0.0933 - val_loss: 0.0920\n",
            "Epoch 25/50\n",
            "235/235 [==============================] - 3s 12ms/step - loss: 0.0932 - val_loss: 0.0919\n",
            "Epoch 26/50\n",
            "235/235 [==============================] - 3s 12ms/step - loss: 0.0932 - val_loss: 0.0919\n",
            "Epoch 27/50\n",
            "235/235 [==============================] - 3s 12ms/step - loss: 0.0931 - val_loss: 0.0920\n",
            "Epoch 28/50\n",
            "235/235 [==============================] - 3s 12ms/step - loss: 0.0931 - val_loss: 0.0919\n",
            "Epoch 29/50\n",
            "235/235 [==============================] - 3s 12ms/step - loss: 0.0930 - val_loss: 0.0918\n",
            "Epoch 30/50\n",
            "235/235 [==============================] - 3s 12ms/step - loss: 0.0930 - val_loss: 0.0918\n",
            "Epoch 31/50\n",
            "235/235 [==============================] - 3s 11ms/step - loss: 0.0930 - val_loss: 0.0918\n",
            "Epoch 32/50\n",
            "235/235 [==============================] - 3s 12ms/step - loss: 0.0929 - val_loss: 0.0918\n",
            "Epoch 33/50\n",
            "235/235 [==============================] - 3s 12ms/step - loss: 0.0929 - val_loss: 0.0917\n",
            "Epoch 34/50\n",
            "235/235 [==============================] - 3s 12ms/step - loss: 0.0929 - val_loss: 0.0916\n",
            "Epoch 35/50\n",
            "235/235 [==============================] - 3s 12ms/step - loss: 0.0928 - val_loss: 0.0917\n",
            "Epoch 36/50\n",
            "235/235 [==============================] - 3s 12ms/step - loss: 0.0928 - val_loss: 0.0916\n",
            "Epoch 37/50\n",
            "235/235 [==============================] - 3s 12ms/step - loss: 0.0928 - val_loss: 0.0916\n",
            "Epoch 38/50\n",
            "235/235 [==============================] - 3s 11ms/step - loss: 0.0928 - val_loss: 0.0915\n",
            "Epoch 39/50\n",
            "235/235 [==============================] - 3s 12ms/step - loss: 0.0928 - val_loss: 0.0916\n",
            "Epoch 40/50\n",
            "235/235 [==============================] - 3s 12ms/step - loss: 0.0927 - val_loss: 0.0915\n",
            "Epoch 41/50\n",
            "235/235 [==============================] - 3s 12ms/step - loss: 0.0927 - val_loss: 0.0915\n",
            "Epoch 42/50\n",
            "235/235 [==============================] - 3s 12ms/step - loss: 0.0927 - val_loss: 0.0915\n",
            "Epoch 43/50\n",
            "235/235 [==============================] - 3s 12ms/step - loss: 0.0927 - val_loss: 0.0915\n",
            "Epoch 44/50\n",
            "235/235 [==============================] - 3s 12ms/step - loss: 0.0927 - val_loss: 0.0915\n",
            "Epoch 45/50\n",
            "235/235 [==============================] - 3s 12ms/step - loss: 0.0927 - val_loss: 0.0915\n",
            "Epoch 46/50\n",
            "235/235 [==============================] - 3s 12ms/step - loss: 0.0926 - val_loss: 0.0916\n",
            "Epoch 47/50\n",
            "235/235 [==============================] - 3s 12ms/step - loss: 0.0926 - val_loss: 0.0915\n",
            "Epoch 48/50\n",
            "235/235 [==============================] - 3s 12ms/step - loss: 0.0926 - val_loss: 0.0915\n",
            "Epoch 49/50\n",
            "235/235 [==============================] - 3s 12ms/step - loss: 0.0926 - val_loss: 0.0914\n",
            "Epoch 50/50\n",
            "235/235 [==============================] - 3s 12ms/step - loss: 0.0926 - val_loss: 0.0915\n"
          ]
        },
        {
          "output_type": "execute_result",
          "data": {
            "text/plain": [
              "<keras.callbacks.History at 0x7f46c3f5b050>"
            ]
          },
          "metadata": {},
          "execution_count": 53
        }
      ]
    },
    {
      "cell_type": "code",
      "source": [
        "test_pred_y=autoencoder.predict(x_test)"
      ],
      "metadata": {
        "id": "R0mAK-b7LCFL"
      },
      "execution_count": 54,
      "outputs": []
    },
    {
      "cell_type": "code",
      "source": [
        "test_pred_y[0].shape"
      ],
      "metadata": {
        "colab": {
          "base_uri": "https://localhost:8080/"
        },
        "id": "BiukHehCNw-x",
        "outputId": "e7c354a3-e1ae-4037-a429-d09fd4e5ebfc"
      },
      "execution_count": 57,
      "outputs": [
        {
          "output_type": "execute_result",
          "data": {
            "text/plain": [
              "(784,)"
            ]
          },
          "metadata": {},
          "execution_count": 57
        }
      ]
    },
    {
      "cell_type": "markdown",
      "source": [
        "# **Reconstructed Image** "
      ],
      "metadata": {
        "id": "lYXicRvZO3VW"
      }
    },
    {
      "cell_type": "code",
      "source": [
        "plt.imshow(test_pred_y[0].reshape(28,28))\n",
        "plt.gray()"
      ],
      "metadata": {
        "colab": {
          "base_uri": "https://localhost:8080/",
          "height": 265
        },
        "id": "vSyKY333N5D_",
        "outputId": "caa85b90-9605-496e-c528-8a076cf0ff1c"
      },
      "execution_count": 59,
      "outputs": [
        {
          "output_type": "display_data",
          "data": {
            "text/plain": [
              "<Figure size 432x288 with 1 Axes>"
            ],
            "image/png": "[encoded data removed]"
          },
          "metadata": {
            "needs_background": "light"
          }
        }
      ]
    },
    {
      "cell_type": "markdown",
      "source": [
        "# **Original Image**"
      ],
      "metadata": {
        "id": "UwKj0dftPBAz"
      }
    },
    {
      "cell_type": "code",
      "source": [
        "plt.imshow(x_test[0].reshape(28,28))\n",
        "plt.gray()"
      ],
      "metadata": {
        "colab": {
          "base_uri": "https://localhost:8080/",
          "height": 265
        },
        "id": "xzRjjbM6Ools",
        "outputId": "ed48079f-07a4-43d1-82f1-24677b6a86d0"
      },
      "execution_count": 60,
      "outputs": [
        {
          "output_type": "display_data",
          "data": {
            "text/plain": [
              "<Figure size 432x288 with 1 Axes>"
            ],
            "image/png": "[encoded data removed]"
          },
          "metadata": {
            "needs_background": "light"
          }
        }
      ]
    },
    {
      "cell_type": "code",
      "source": [
        "n=10\n",
        "plt.figure(figsize=(20,4))\n",
        "for i in range(1,11):\n",
        "  #original Image\n",
        "  ax=plt.subplot(2,n,i)\n",
        "  ax.set_title('Original Images')\n",
        "  plt.imshow(x_test[i].reshape(28,28))\n",
        "  plt.gray()\n",
        "  ax.get_xaxis().set_visible(False)\n",
        "  ax.get_yaxis().set_visible(False)\n",
        "  #Reconstructed Image\n",
        "  ax=plt.subplot(2,n,i+n)\n",
        "  ax.set_title('Reconstructed')\n",
        "  plt.imshow(test_pred_y[i].reshape(28,28))\n",
        "  plt.gray()\n",
        "  ax.get_xaxis().set_visible(False)\n",
        "  ax.get_yaxis().set_visible(False)\n"
      ],
      "metadata": {
        "colab": {
          "base_uri": "https://localhost:8080/",
          "height": 261
        },
        "id": "NPgVDQv_OzYe",
        "outputId": "f0b4ba34-e4aa-4e6a-d55f-1dbe8ab10eb1"
      },
      "execution_count": 66,
      "outputs": [
        {
          "output_type": "display_data",
          "data": {
            "text/plain": [
              "<Figure size 1440x288 with 20 Axes>"
            ],
            "image/png": "[encoded data removed]"
          },
          "metadata": {
            "needs_background": "light"
          }
        }
      ]
    },
    {
      "cell_type": "code",
      "source": [
        ""
      ],
      "metadata": {
        "id": "OL12p23pQBiI"
      },
      "execution_count": null,
      "outputs": []
    }
  ]
}